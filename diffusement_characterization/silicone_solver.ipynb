{
 "cells": [
  {
   "cell_type": "code",
   "execution_count": 1,
   "metadata": {
    "collapsed": true
   },
   "outputs": [],
   "source": [
    "import numpy as np"
   ]
  },
  {
   "cell_type": "code",
   "execution_count": 2,
   "metadata": {
    "collapsed": false
   },
   "outputs": [],
   "source": [
    "def plan_steps(proportions, inital_grams, initial_prop):\n",
    "    \"\"\"\n",
    "    Given a length-n list PROPORTIONS, where n is the number\n",
    "    of concentrations, returns\n",
    "    \"\"\"\n",
    "    grams_working = inital_grams\n",
    "    prop_working = initial_prop\n",
    "    for prop in proportions:\n",
    "        grams_add = calc_add_grams(0, prop_working, grams_working)\n",
    "        \n",
    "\n",
    "def calc_add_grams(grams_w, prop_w, prop_new):\n",
    "    \"\"\"\n",
    "    Given GRAMS_W grams of the working mixture with PROP_W\n",
    "    proportion of dust and PROP_NEW desired, returns the\n",
    "    grams of dust that should be added to the solution.\n",
    "    \n",
    "    ERROR if either proportion is not in [0, 1)\n",
    "    \"\"\"\n",
    "    if prop_new < 0.0 or prop_new >= 1.0 \\\n",
    "        or prop_w < 0.0 or prop_w >= 1.0:\n",
    "        raise ValueError\n",
    "    return (grams_w * (prop_new - prop_w)) / (1 - prop_new)\n",
    "\n",
    "def calc_concentration():\n",
    "    pass"
   ]
  },
  {
   "cell_type": "code",
   "execution_count": 5,
   "metadata": {
    "collapsed": false
   },
   "outputs": [
    {
     "data": {
      "text/plain": [
       "-1.6666666666666663"
      ]
     },
     "execution_count": 5,
     "metadata": {},
     "output_type": "execute_result"
    }
   ],
   "source": [
    "calc_add_grams(10, 0.5, 0.4)"
   ]
  },
  {
   "cell_type": "code",
   "execution_count": null,
   "metadata": {
    "collapsed": true
   },
   "outputs": [],
   "source": []
  }
 ],
 "metadata": {
  "kernelspec": {
   "display_name": "Python 2",
   "language": "python",
   "name": "python2"
  },
  "language_info": {
   "codemirror_mode": {
    "name": "ipython",
    "version": 2
   },
   "file_extension": ".py",
   "mimetype": "text/x-python",
   "name": "python",
   "nbconvert_exporter": "python",
   "pygments_lexer": "ipython2",
   "version": "2.7.11"
  }
 },
 "nbformat": 4,
 "nbformat_minor": 0
}
